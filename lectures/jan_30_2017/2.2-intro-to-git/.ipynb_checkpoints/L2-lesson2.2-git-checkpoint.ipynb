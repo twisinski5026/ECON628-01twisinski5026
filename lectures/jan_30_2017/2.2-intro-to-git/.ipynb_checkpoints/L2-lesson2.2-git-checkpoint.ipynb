{
 "cells": [
  {
   "cell_type": "markdown",
   "metadata": {
    "slideshow": {
     "slide_type": "slide"
    }
   },
   "source": [
    "<img src=\"https://images.efollett.com/htmlroot/images/templates/storeLogos/CA/864.gif\" style=\"float: right;\"> \n",
    "\n",
    "\n",
    "\n",
    "\n",
    "# ECON628-01 \n",
    "### Lecture 2 -  2.2 - Brief introduction to git \n",
    "#### _Note: we are not going to spend much time in this topic => as this is was explained on the PC and MAC installation guidelines_\n",
    "\n",
    "\n",
    "\n",
    "### LEARNING GOALS\n",
    "- Use basinc [git] [1] commands (add, commit, push, and clone)\n",
    "- Understand the difference between local and remote repositories\n",
    "- Clone a respository\n",
    "\n",
    "\n",
    "[1]: https://www.learnenough.com/git-tutorial    \"git\"\n"
   ]
  },
  {
   "cell_type": "markdown",
   "metadata": {
    "slideshow": {
     "slide_type": "slide"
    }
   },
   "source": [
    "## Git vs GitHub and version control \n",
    "\n",
    "**Git is not Github** DON NOT make this mistake .\n",
    "\n",
    "#### What is Git?\n",
    "\n",
    "[Git](https://git-scm.com/) is:\n",
    "\n",
    "- Program you run from the command line\n",
    "- Distributed version control system\n",
    "\n",
    "Programmers use Git so that they can keep the history of all the changes to their code. This means that they can rollback changes (or switch to older versions) as far back int time as they started using Git on their project.\n",
    "\n",
    "A codebase in Git is referred to as a **repository**, or **repo**, for short.\n",
    "\n",
    "\n",
    "#### What is Github?\n",
    "\n",
    "[Github](https://github.com/) is:\n",
    "\n",
    "- A hosting service for Git repositories\n",
    "- A web interface to explore Git repositories\n",
    "- A social network of programmers\n",
    "- You can follow users and star your projects\n",
    "- Developers can access codebases on other public accounts\n",
    "- GitHub uses Git\n",
    "\n",
    "**_“Git is software. GitHub is a company that happens to use Git software.”  THEREFORE, you can certainly use Git without GitHub!_**"
   ]
  },
  {
   "cell_type": "markdown",
   "metadata": {
    "slideshow": {
     "slide_type": "slide"
    }
   },
   "source": [
    "Your local repository consists of three \"trees\" maintained by Git.\n",
    "\n",
    "- **Working Directory**: which holds the actual files.\n",
    "- **Index**: which acts as a staging area\n",
    "- **HEAD**: which points to the last commit you've made.\n",
    "\n",
    "![workflow](https://cloud.githubusercontent.com/assets/40461/8221736/f1f7e972-1559-11e5-9dcb-66b44139ee6f.png)"
   ]
  },
  {
   "cell_type": "markdown",
   "metadata": {
    "slideshow": {
     "slide_type": "slide"
    }
   },
   "source": [
    "#### Cloning and Making repositories - This is what you did to create your ECON628-01-githubusername\n",
    "\n",
    "1. Go to your Github account\n",
    "2. In the right hand side, hit the green + button for `New repository`\n",
    "3. Name your repository `ECON628-01-githubusername`\n",
    "4. **Initialize this repository with a README** (So that we can `git pull`)\n",
    "5. Click the big green Create Repository button\n"
   ]
  },
  {
   "cell_type": "markdown",
   "metadata": {
    "slideshow": {
     "slide_type": "slide"
    }
   },
   "source": [
    "#### Cloning repositories - steps\n",
    "\n",
    "```bash\n",
    "$ cd ~/Desktop\n",
    "$ git clone https://github.com/majacaci00/ECON628-01.git => this clones the ECON628-01 Folder\n",
    "$ pwd\n",
    "$ git help -a\n",
    "$ git log\n",
    "$ git clone https://github.com/github-username/ECON628-01-githubusername.git => this clones your student repo ECON628-01-githubusername\n",
    "$ git status\n",
    "$ pwd\n",
    "$ ls -l\n",
    "```"
   ]
  },
  {
   "cell_type": "markdown",
   "metadata": {
    "slideshow": {
     "slide_type": "slide"
    }
   },
   "source": [
    "#### Copying files/directories from one folder/directory to another folder/directory\n",
    "\n",
    "```bash\n",
    "$ cd ~/Desktop\n",
    "$ pwd\n",
    "$ mkdir ~/Desktop/ECON628-01/various ~/Desktop/ECON628-01-githubusername/various \n",
    "    **Note:** the lines above are just one line. There is a space between /various and /Users\n",
    "    the command mkdir => copies the content from the various folder in ECON628-01 to ECON628-01-githubusername)\n",
    "    **Note:** YOURNAME  =>  refers to your mac user name\n",
    "    **Note:** This is the process of copying files and folders from your local repository (ECON628-01) to your local student repository (ECON628-01-githubusername)\n",
    "    You can make sure you have copied the files to your local student repository (ECON628-01-githubusername) by manually opening “Finder => Desktop => ECON628-01-githubusername)\n",
    "    \n",
    "$ pwd\n",
    "$ cd ~/Desktop/ECON628-01-githubusername\n",
    "$ ls -l => you should see the various folder,\n",
    "$ cd various\n",
    "$ ls -l => you should see the Required_tools_class.pdf document\n",
    "```"
   ]
  },
  {
   "cell_type": "markdown",
   "metadata": {
    "collapsed": true,
    "slideshow": {
     "slide_type": "slide"
    }
   },
   "source": [
    "### Pulling and Pushing Files\n",
    "#### To pull a file => to update your ECON628-01 folder\n",
    "\n",
    "```bash\n",
    "$ pwd\n",
    "$ cd ~/Desktop/ECON628-01/ \n",
    "$ git pull => this updates your local ECON628-01 folder\n",
    "```\n",
    "#### To push a file => to push/submit a file to your ECON628-01-githubusername \n",
    "\n",
    "```bash\n",
    "$ pwd\n",
    "$ cd ~/Desktop/ECON628-01-githubusername\n",
    "$ ls -l => you should see the various folder\n",
    "$ cd various\n",
    "$ pwd\n",
    "$ git add Required_tools_class.pdf\n",
    "$ git commit -m \"Testing my repo\"\n",
    "$ git push origin master\n",
    "```\n"
   ]
  }
 ],
 "metadata": {
  "anaconda-cloud": {},
  "celltoolbar": "Slideshow",
  "kernelspec": {
   "display_name": "Python [Root]",
   "language": "python",
   "name": "Python [Root]"
  },
  "language_info": {
   "codemirror_mode": {
    "name": "ipython",
    "version": 2
   },
   "file_extension": ".py",
   "mimetype": "text/x-python",
   "name": "python",
   "nbconvert_exporter": "python",
   "pygments_lexer": "ipython2",
   "version": "2.7.12"
  }
 },
 "nbformat": 4,
 "nbformat_minor": 0
}
