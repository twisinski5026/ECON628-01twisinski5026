{
 "cells": [
  {
   "cell_type": "markdown",
   "metadata": {},
   "source": [
    "<img src=\"https://images.efollett.com/htmlroot/images/templates/storeLogos/CA/864.gif\" style=\"float: right;\"> \n",
    "\n",
    "\n",
    "\n",
    "\n",
    "# ECON628-01 \n",
    "### Lecture 2 -  2.3 - Brief revision on Python data types \n",
    "#### _Note: we are not going to spend much time in this topic => as this was part of your [codeacademy] [1] training_\n",
    "\n",
    "\n",
    "[1]: https://www.codecademy.com/learn/python    \"codeacademy\""
   ]
  },
  {
   "cell_type": "markdown",
   "metadata": {},
   "source": [
    "# Introduction to Data Types"
   ]
  },
  {
   "cell_type": "code",
   "execution_count": 1,
   "metadata": {
    "collapsed": false
   },
   "outputs": [
    {
     "name": "stdout",
     "output_type": "stream",
     "text": [
      "<type 'int'>\n",
      "<type 'float'>\n",
      "<type 'str'>\n"
     ]
    }
   ],
   "source": [
    "print type(1) # int \n",
    "\n",
    "print type(1.0) #float \n",
    "\n",
    "print type(\"I love python\") # string "
   ]
  },
  {
   "cell_type": "markdown",
   "metadata": {},
   "source": [
    "## Tuples"
   ]
  },
  {
   "cell_type": "code",
   "execution_count": 2,
   "metadata": {
    "collapsed": false
   },
   "outputs": [
    {
     "name": "stdout",
     "output_type": "stream",
     "text": [
      "<type 'tuple'> <type 'tuple'> 3\n"
     ]
    }
   ],
   "source": [
    "x_tupe_1 = (\"UBER\", \"Google\", \"Worl Bank\")\n",
    "x_tupe_2 = (\"Driver\", \"Engineer\", \"Economist\")\n",
    "print type(x_tupe_1), type(x_tupe_2), len(x_tupe_1)"
   ]
  },
  {
   "cell_type": "code",
   "execution_count": 3,
   "metadata": {
    "collapsed": false
   },
   "outputs": [
    {
     "data": {
      "text/plain": [
       "()"
      ]
     },
     "execution_count": 3,
     "metadata": {},
     "output_type": "execute_result"
    }
   ],
   "source": [
    "# Tuple with empty value\n",
    "tup = ()\n",
    "tup"
   ]
  },
  {
   "cell_type": "code",
   "execution_count": 4,
   "metadata": {
    "collapsed": false
   },
   "outputs": [
    {
     "name": "stdout",
     "output_type": "stream",
     "text": [
      "('MAN_U',)\n"
     ]
    }
   ],
   "source": [
    "## tuple with one value => add comma after the first elment\n",
    "tup_1 = (\"MAN_U\", )\n",
    "print tup_1"
   ]
  },
  {
   "cell_type": "code",
   "execution_count": 5,
   "metadata": {
    "collapsed": false
   },
   "outputs": [
    {
     "data": {
      "text/plain": [
       "('Engineer', 'Economist')"
      ]
     },
     "execution_count": 5,
     "metadata": {},
     "output_type": "execute_result"
    }
   ],
   "source": [
    "## Accesing values in a tuple\n",
    "x_tupe_1[0] #prints the first element of the tuple\n",
    "\n",
    "x_tupe_2[1:len(x_tupe_2)]"
   ]
  },
  {
   "cell_type": "code",
   "execution_count": 6,
   "metadata": {
    "collapsed": false
   },
   "outputs": [
    {
     "name": "stdout",
     "output_type": "stream",
     "text": [
      "('UBER', 'Google', 'Worl Bank', 'Driver', 'Engineer', 'Economist') 6\n"
     ]
    }
   ],
   "source": [
    "## Tuples are immutables => you can't update of change the values of a tuple\n",
    "## you can add them\n",
    "new_tuple = x_tupe_1 + x_tupe_2\n",
    "print new_tuple, len(new_tuple)"
   ]
  },
  {
   "cell_type": "code",
   "execution_count": 7,
   "metadata": {
    "collapsed": false
   },
   "outputs": [],
   "source": [
    "## You cann't delete and element of a tuple, but you can delete a tuple\n",
    "# del new_tuple\n",
    "# print new_tuple"
   ]
  },
  {
   "cell_type": "code",
   "execution_count": 8,
   "metadata": {
    "collapsed": false
   },
   "outputs": [
    {
     "name": "stdout",
     "output_type": "stream",
     "text": [
      "The lentgth of x_tupe_1 is 3\n",
      "==========\n",
      "\n",
      "You can add x_tupe_1 and x_tupe_2 to get this result ('UBER', 'Google', 'Worl Bank', 'Driver', 'Engineer', 'Economist')\n",
      "==========\n",
      "\n",
      "('MAN_U', 'MAN_U', 'MAN_U', 'MAN_U', 'MAN_U')\n",
      "==========\n",
      "\n",
      "False\n",
      "True\n",
      "==========\n",
      "\n",
      "The elements of the x_tupe_2 are Driver\n",
      "The elements of the x_tupe_2 are Engineer\n",
      "The elements of the x_tupe_2 are Economist\n",
      "==========\n",
      "\n",
      "Worl Bank\n",
      "Google\n",
      "==========\n",
      "\n",
      "<type 'list'>\n",
      "('Trulia', 'Doordash', 'Spotify')\n"
     ]
    }
   ],
   "source": [
    "## Tuple operations\n",
    "\"\"\"Length\"\"\"\n",
    "print \"The lentgth of x_tupe_1 is %s\" % (len(x_tupe_1))\n",
    "print \"==========\\n\"\n",
    "\n",
    "\"\"\" Concatenation\"\"\"\n",
    "new_tuple = x_tupe_1 + x_tupe_2\n",
    "print \"You can add x_tupe_1 and x_tupe_2 to get this result\", new_tuple\n",
    "print \"==========\\n\"\n",
    "\n",
    "\"\"\" Repetition\"\"\"\n",
    "print (tup_1*5)\n",
    "print \"==========\\n\"\n",
    "\n",
    "\"\"\" Membership => look this is case sensitive!!!\"\"\"\n",
    "print \"Uber\" in (x_tupe_1)\n",
    "print \"UBER\" in (x_tupe_1)\n",
    "print \"==========\\n\"\n",
    "\n",
    "\"\"\" Iteration\"\"\"\n",
    "for i in x_tupe_2:\n",
    "    print \"The elements of the x_tupe_2 are\" ,i\n",
    "print \"==========\\n\"  \n",
    "    \n",
    "\"\"\" Build in Tuple Functions\"\"\"\n",
    "\"\"\" returnning item from the tuple with max and min value\"\"\"\n",
    "print max(x_tupe_1)\n",
    "print min(x_tupe_1)\n",
    "print \"==========\\n\"\n",
    "\n",
    "\"\"\" Build in Tuple Functions\"\"\"\n",
    "\"\"\" converting a list into a tuple\"\"\"\n",
    "x_list = [\"Trulia\", \"Doordash\", \"Spotify\"]\n",
    "print type(x_list)\n",
    "print tuple(x_list)\n"
   ]
  },
  {
   "cell_type": "markdown",
   "metadata": {},
   "source": [
    "## Lists"
   ]
  },
  {
   "cell_type": "code",
   "execution_count": 9,
   "metadata": {
    "collapsed": false
   },
   "outputs": [
    {
     "name": "stdout",
     "output_type": "stream",
     "text": [
      "<type 'list'> 6\n"
     ]
    }
   ],
   "source": [
    "x_list = [\"Trulia\", \"Doordash\", \"Spotify\", 1987, \"988\", 345]\n",
    "print type(x_list), len(x_list)"
   ]
  },
  {
   "cell_type": "code",
   "execution_count": 10,
   "metadata": {
    "collapsed": false
   },
   "outputs": [
    {
     "name": "stdout",
     "output_type": "stream",
     "text": [
      "Trulia\n",
      "['Trulia', 'Doordash', 'Spotify', 1987, '988']\n",
      "345\n"
     ]
    }
   ],
   "source": [
    "## Accessing values from a list\n",
    "print x_list[0]\n",
    "print x_list[0:-1]\n",
    "print x_list[-1]"
   ]
  },
  {
   "cell_type": "code",
   "execution_count": 11,
   "metadata": {
    "collapsed": false
   },
   "outputs": [
    {
     "name": "stdout",
     "output_type": "stream",
     "text": [
      "The item in index 2 is: Spotify\n",
      "==========\n",
      "['Trulia', 'Doordash', 'Pandora', 1987, '988', 345]\n",
      "==========\n",
      "The new item in index 2 is: Pandora\n"
     ]
    }
   ],
   "source": [
    "## Updating a list\n",
    "print \"The item in index 2 is:\", x_list[2]\n",
    "print \"==========\"\n",
    "\"\"\"We are going to replace the item in index 2\"\"\"\n",
    "x_list[2] = \"Pandora\"\n",
    "print x_list\n",
    "print \"==========\"\n",
    "print \"The new item in index 2 is:\", x_list[2]"
   ]
  },
  {
   "cell_type": "code",
   "execution_count": 12,
   "metadata": {
    "collapsed": false
   },
   "outputs": [
    {
     "name": "stdout",
     "output_type": "stream",
     "text": [
      "6\n",
      "['Trulia', 'Doordash', 'Pandora', 1987, '988', 345]\n",
      "==========\n",
      "5\n",
      "['Trulia', 'Doordash', 'Pandora', 1987, 345]\n"
     ]
    }
   ],
   "source": [
    "## Deleting items from a list\n",
    "\"\"\"We are going to delete the item in index 4\"\"\"\n",
    "print len(x_list)\n",
    "print x_list\n",
    "print \"==========\"\n",
    "\n",
    "del x_list[4]\n",
    "print len(x_list)\n",
    "print x_list"
   ]
  },
  {
   "cell_type": "code",
   "execution_count": 13,
   "metadata": {
    "collapsed": false
   },
   "outputs": [
    {
     "name": "stdout",
     "output_type": "stream",
     "text": [
      "The lentgth of x_list is 5\n",
      "==========\n",
      "\n",
      "You can add x_list and another list to get this result ['Trulia', 'Doordash', 'Pandora', 1987, 345, 'ECON628', '30', 'IDEC', 90, '2017']\n",
      "==========\n",
      "\n",
      "['Trulia', 'Doordash', 'Pandora', 1987, 345, 'Trulia', 'Doordash', 'Pandora', 1987, 345, 'Trulia', 'Doordash', 'Pandora', 1987, 345, 'Trulia', 'Doordash', 'Pandora', 1987, 345, 'Trulia', 'Doordash', 'Pandora', 1987, 345]\n",
      "==========\n",
      "\n",
      "True\n",
      "False\n",
      "==========\n",
      "\n",
      "The elements of the x_list are Trulia\n",
      "The elements of the x_list are Doordash\n",
      "The elements of the x_list are Pandora\n",
      "The elements of the x_list are 1987\n",
      "The elements of the x_list are 345\n",
      "==========\n",
      "\n",
      "60 NothingWinner\n",
      "3 Car\n",
      "==========\n",
      "\n",
      "<type 'tuple'>\n",
      "['Trulia', 'Doordash', 'Pandora', 1987, 345]\n"
     ]
    }
   ],
   "source": [
    "#### List Functions ###\n",
    "\"\"\"Length\"\"\"\n",
    "print \"The lentgth of x_list is %s\" % (len(x_list))\n",
    "print \"==========\\n\"\n",
    "\n",
    "\"\"\" Concatenation\"\"\"\n",
    "new_list = x_list + [\"ECON628\", \"30\", \"IDEC\", 90, '2017']\n",
    "print \"You can add x_list and another list to get this result\", new_list\n",
    "print \"==========\\n\"\n",
    "\n",
    "\"\"\" Repetition\"\"\"\n",
    "print (x_list*5)\n",
    "print \"==========\\n\"\n",
    "\n",
    "\"\"\" Membership => look this is case sensitive!!!\"\"\"\n",
    "print \"Pandora\" in (x_list)\n",
    "print \"UBER\" in (x_list)\n",
    "print \"==========\\n\"\n",
    "\n",
    "\"\"\" Iteration\"\"\"\n",
    "for i in x_list:\n",
    "    print \"The elements of the x_list are\" ,i\n",
    "print \"==========\\n\"  \n",
    "    \n",
    "\"\"\" Build in Tuple Functions\"\"\"\n",
    "\"\"\" returnning item from the tuple with max and min value\"\"\"\n",
    "\n",
    "numeric_list  = [3,5,7,60]\n",
    "string_list = ['Car', 'Nothing' 'Winner']\n",
    "print max(numeric_list), max(string_list)\n",
    "print min(numeric_list), min(string_list)\n",
    "print \"==========\\n\"\n",
    "\n",
    "\"\"\" Build in Tuple Functions\"\"\"\n",
    "\"\"\" converting a tuple into a list\"\"\"\n",
    "\n",
    "print type(x_tupe_2)\n",
    "print list (x_list)"
   ]
  },
  {
   "cell_type": "code",
   "execution_count": 14,
   "metadata": {
    "collapsed": false
   },
   "outputs": [
    {
     "name": "stdout",
     "output_type": "stream",
     "text": [
      "The original numeric list is: [3, 5, 7, 60]\n",
      "==========\n",
      "\n",
      "The update numeric list is: [3, 5, 7, 60, 8, 8]\n",
      "==========\n",
      "\n",
      "[3, 5, 7, 60, 8, 8]\n",
      "[3, 5, 7, 60, 8, 8, 99, 8988, 7675, 9.9]\n",
      "==========\n",
      "\n",
      "==========\n",
      "\n",
      "[3, 5, 7, 60, 'new99', 8, 8, 99, 8988, 7675, 9.9]\n",
      "==========\n",
      "\n",
      "['2', 9, 8]\n",
      "==========\n",
      "\n",
      "['2', 8]\n",
      "==========\n",
      "\n",
      "['Olaf', 101.9, 90, 'llkk', 8.9]\n",
      "==========\n",
      "\n",
      "[8.9, 90, 101.9, 'Olaf', 'llkk']\n"
     ]
    }
   ],
   "source": [
    "#### List Methods ###\n",
    "'''list.append(i) => appends an element to a list'''\n",
    "print \"The original numeric list is:\" , numeric_list\n",
    "print \"==========\\n\"\n",
    "numeric_list.append(8)\n",
    "numeric_list.append(8)\n",
    "print \"The update numeric list is:\" , numeric_list\n",
    "\n",
    "'''list.count(i) => Returns count of how many times i occurs in list'''\n",
    "numeric_list.count(8)\n",
    "print \"==========\\n\"\n",
    "\n",
    "'''list.extend(i) Appends the contents of i to list'''\n",
    "print numeric_list\n",
    "new_numeri_list =  [99, 8988, 7675, 9.90]\n",
    "numeric_list.extend(new_numeri_list)\n",
    "print numeric_list\n",
    "print \"==========\\n\"\n",
    "\n",
    "'''list.index(i) Returns the lowest index in list that i appears'''\n",
    "numeric_list.index(99)\n",
    "print \"==========\\n\"\n",
    "\n",
    "'''list.insert(index, i) The method insert(), inserts object i into list at offset index'''\n",
    "numeric_list.index(99)\n",
    "numeric_list.insert(4, \"new99\")\n",
    "print numeric_list\n",
    "print \"==========\\n\"\n",
    "\n",
    "'''list.pop(i=list[-1]) The method pop() removes and returns last object or obj from the list, where i is an optional\n",
    "parameter, note i in here refers to the index'''\n",
    "new_list = ['2', 9, 8, \"Santiago\"]\n",
    "new_list.pop(-1)\n",
    "print new_list\n",
    "print \"==========\\n\"\n",
    "\n",
    "\n",
    "'''list.remove(i) Removes object obj from list'''\n",
    "new_list.remove(9)\n",
    "print new_list\n",
    "print \"==========\\n\"\n",
    "\n",
    "''' list.reverse()=> reverse objects from a list'''\n",
    "list_new = [8.90, 'llkk', 90,  101.90, \"Olaf\" ]\n",
    "list_new.reverse()\n",
    "print list_new\n",
    "print \"==========\\n\"\n",
    "\n",
    "\n",
    "''' list.sort() The method sort() sorts items of list, use compare func if given.'''\n",
    "list_new.sort()\n",
    "print list_new\n"
   ]
  },
  {
   "cell_type": "markdown",
   "metadata": {},
   "source": [
    "## Dictionaries"
   ]
  },
  {
   "cell_type": "code",
   "execution_count": 15,
   "metadata": {
    "collapsed": false
   },
   "outputs": [
    {
     "data": {
      "text/plain": [
       "{'First_name': 'Felipe', 'Last_name': 'McKlaren', 'Student_id': 90}"
      ]
     },
     "execution_count": 15,
     "metadata": {},
     "output_type": "execute_result"
    }
   ],
   "source": [
    "my_dictionary =  {'First_name': \"Felipe\",\n",
    "                  'Last_name': \"McKlaren\",\n",
    "                  'Student_id': 90 }\n",
    "my_dictionary"
   ]
  },
  {
   "cell_type": "code",
   "execution_count": 16,
   "metadata": {
    "collapsed": false
   },
   "outputs": [
    {
     "data": {
      "text/plain": [
       "['Student_id', 'First_name', 'Last_name']"
      ]
     },
     "execution_count": 16,
     "metadata": {},
     "output_type": "execute_result"
    }
   ],
   "source": [
    "## Getting the dictionary keys\n",
    "my_dictionary.keys()"
   ]
  },
  {
   "cell_type": "code",
   "execution_count": 17,
   "metadata": {
    "collapsed": false
   },
   "outputs": [
    {
     "data": {
      "text/plain": [
       "[90, 'Felipe', 'McKlaren']"
      ]
     },
     "execution_count": 17,
     "metadata": {},
     "output_type": "execute_result"
    }
   ],
   "source": [
    "## Getting the dictionary values\n",
    "my_dictionary.values()"
   ]
  },
  {
   "cell_type": "code",
   "execution_count": 18,
   "metadata": {
    "collapsed": false
   },
   "outputs": [
    {
     "name": "stdout",
     "output_type": "stream",
     "text": [
      "Felipe\n",
      "McKlaren\n",
      "90\n"
     ]
    }
   ],
   "source": [
    "## Access values => via keys\n",
    "print my_dictionary['First_name']\n",
    "print my_dictionary['Last_name']\n",
    "print my_dictionary['Student_id']"
   ]
  },
  {
   "cell_type": "code",
   "execution_count": 19,
   "metadata": {
    "collapsed": false
   },
   "outputs": [
    {
     "name": "stdout",
     "output_type": "stream",
     "text": [
      "[87, 'Felipe', 'McKlaren']\n",
      "===========\n",
      "\n",
      "{'Student_id': 87, 'First_name': 'Felipe', 'Last_name': 'McKlaren', 'Grad_program': 'Economics'}\n",
      "===========\n",
      "\n",
      "['Student_id', 'First_name', 'Last_name', 'Grad_program']\n",
      "===========\n",
      "\n",
      "['Student_id', 'First_name', 'Last_name']\n",
      "===========\n",
      "\n"
     ]
    },
    {
     "data": {
      "text/plain": [
       "'Dictionary Keys can only be String, dictionary can be srtrings, lists, values etc'"
      ]
     },
     "execution_count": 19,
     "metadata": {},
     "output_type": "execute_result"
    }
   ],
   "source": [
    "## Updating a dictionary\n",
    "'''You can update an existing value'''\n",
    "my_dictionary['Student_id'] = 87\n",
    "print my_dictionary.values()\n",
    "print \"===========\\n\"\n",
    "\n",
    "'''You can add a new entry'''\n",
    "my_dictionary['Grad_program'] = \"Economics\"\n",
    "print my_dictionary\n",
    "print \"===========\\n\"\n",
    "print my_dictionary.keys()\n",
    "print \"===========\\n\"\n",
    "\n",
    "'''You can delete dictionary elements'''\n",
    "## remove entry using the key\n",
    "del my_dictionary['Grad_program']\n",
    "print my_dictionary.keys()\n",
    "print \"===========\\n\"\n",
    "\n",
    "## removing all entries from a dictionary\n",
    "# my_dictionary.clear()\n",
    "\n",
    "'''Dictionary Keys can only be String, dictionary can be srtrings, lists, values etc'''"
   ]
  },
  {
   "cell_type": "code",
   "execution_count": 20,
   "metadata": {
    "collapsed": false
   },
   "outputs": [
    {
     "name": "stdout",
     "output_type": "stream",
     "text": [
      "3\n",
      "==========\n",
      "\n"
     ]
    }
   ],
   "source": [
    "## Dictionary Functions and Methods\n",
    "'''Dictionary length'''\n",
    "print len(my_dictionary)\n",
    "print '==========\\n'"
   ]
  },
  {
   "cell_type": "code",
   "execution_count": 21,
   "metadata": {
    "collapsed": false
   },
   "outputs": [
    {
     "data": {
      "text/plain": [
       "\"{'Student_id': 87, 'First_name': 'Felipe', 'Last_name': 'McKlaren'}\""
      ]
     },
     "execution_count": 21,
     "metadata": {},
     "output_type": "execute_result"
    }
   ],
   "source": [
    "## Dictionary Functions and Methods\n",
    "'''str(dict) => prints printable string representation of a dictionary'''\n",
    "str(my_dictionary)\n"
   ]
  },
  {
   "cell_type": "code",
   "execution_count": 22,
   "metadata": {
    "collapsed": false
   },
   "outputs": [
    {
     "name": "stdout",
     "output_type": "stream",
     "text": [
      "==========\n",
      "\n",
      "New Dictionary : {'age': None, 'name': None, 'sex': None}\n",
      "New Dictionary : {'age': 10, 'name': 10, 'sex': 10}\n",
      "==========\n",
      "\n",
      "Value : Felipe\n",
      "Value : does't exist\n",
      "==========\n",
      "\n",
      "Value : True\n",
      "==========\n",
      "\n",
      "Value : [('Student_id', 87), ('First_name', 'Felipe'), ('Last_name', 'McKlaren')]\n",
      "==========\n",
      "\n",
      "Value : ['Student_id', 'First_name', 'Last_name']\n",
      "==========\n",
      "\n",
      "Value : [87, 'Felipe', 'McKlaren']\n",
      "==========\n",
      "\n",
      "Value : {'Student_id': 87, 'First_name': 'Felipe', 'Last_name': 'McKlaren', 'Sex': 'male'}\n",
      "==========\n",
      "\n"
     ]
    }
   ],
   "source": [
    "## Dictionary Functions and Methods\n",
    "\"\"\"dict.copy()\"\"\"\n",
    "# my_dictionary\n",
    "my_dictionary_2 = my_dictionary.copy()\n",
    "my_dictionary_2\n",
    "print '==========\\n'\n",
    "\n",
    "''' dict.fromkeys()'''\n",
    "seq_names= ('name', 'age', 'sex')\n",
    "\n",
    "dict = dict.fromkeys(seq_names)\n",
    "print \"New Dictionary : %s\" %  str(dict)\n",
    "\n",
    "dict = dict.fromkeys(seq_names, 10)\n",
    "print \"New Dictionary : %s\" %  str(dict)\n",
    "print '==========\\n'\n",
    "\n",
    "''' dict.get(key, default=None)'''\n",
    "print \"Value : %s\" %  my_dictionary.get('First_name')\n",
    "print \"Value : %s\" %  my_dictionary.get('Education',  \"does't exist\")\n",
    "print '==========\\n'\n",
    "\n",
    "''' dict.has_key(key)=> returns true'''\n",
    "print \"Value : %s\" %  my_dictionary.has_key(\"Last_name\")\n",
    "print '==========\\n'\n",
    "\n",
    "'''dict.items() => list of tuple pairs.'''\n",
    "print \"Value : %s\" %  my_dictionary.items()\n",
    "print '==========\\n'\n",
    "\n",
    "'''dict.keys()'''\n",
    "print \"Value : %s\" %  my_dictionary.keys()\n",
    "print '==========\\n'\n",
    "\n",
    "'''dict.values()'''\n",
    "print \"Value : %s\" %  my_dictionary.values()\n",
    "print '==========\\n'\n",
    "\n",
    "''' dict.update(dict2) => adds dictionary dict2's key-values pairs in to dict'''\n",
    "dict2 = {'Sex': 'male'}\n",
    "my_dictionary.update(dict2)\n",
    "print \"Value : %s\" %  my_dictionary\n",
    "print '==========\\n'\n"
   ]
  },
  {
   "cell_type": "code",
   "execution_count": 23,
   "metadata": {
    "collapsed": false
   },
   "outputs": [
    {
     "data": {
      "text/plain": [
       "['Knewton', 'Stitch Fix', 'Uber_America', 'Uber_Ger']"
      ]
     },
     "execution_count": 23,
     "metadata": {},
     "output_type": "execute_result"
    }
   ],
   "source": [
    "x_dict = {\n",
    "    \"Stitch Fix\" : [\"Supply and Demand Logistics\", \"Rec Sys\"],\n",
    "    \"Knewton\" : [\"Education Data Mining\", \"NNets\"],\n",
    "    \"Uber_America\": [\"logistics\", \"self-driving car\", \"sentiment analysis\"],\n",
    "    \"Uber_Ger\": [\"graphs\"]\n",
    "    }\n",
    "\n",
    "\n",
    "uber_val = x_dict['Uber_America'] + x_dict['Uber_Ger']\n",
    "sorted(x_dict)"
   ]
  },
  {
   "cell_type": "markdown",
   "metadata": {},
   "source": [
    "## Control Flow: if statements, functions, iterators "
   ]
  },
  {
   "cell_type": "code",
   "execution_count": 24,
   "metadata": {
    "collapsed": true
   },
   "outputs": [],
   "source": [
    "game_of_thrones = ['ned stark', 'john snow']\n",
    "\n",
    "if 'joffery' in game_of_thrones:\n",
    "    print 1 \n",
    "else:\n",
    "    game_of_thrones.append('joffery')"
   ]
  },
  {
   "cell_type": "code",
   "execution_count": 25,
   "metadata": {
    "collapsed": false
   },
   "outputs": [
    {
     "name": "stdout",
     "output_type": "stream",
     "text": [
      "b 637\n"
     ]
    }
   ],
   "source": [
    "import random \n",
    "\n",
    "a = random.choice(range(100, 1000, 2))\n",
    "b = random.choice(range(100, 1000, 3))\n",
    "combined_str = str(a+b)[1:-1]\n",
    "\n",
    "if a + b > 100 and int(combined_str) % 2: \n",
    "    print \"a+b\", a + b \n",
    "\n",
    "elif a + b <= 100 and not int(combined_str) % 2: \n",
    "    print \"a\", a \n",
    "\n",
    "else:\n",
    "    print \"b\", b "
   ]
  },
  {
   "cell_type": "code",
   "execution_count": 26,
   "metadata": {
    "collapsed": false
   },
   "outputs": [
    {
     "name": "stdout",
     "output_type": "stream",
     "text": [
      "<type 'list'>\n",
      "[1, 2, 3, 4, 5, 6, 7, 8, 9, 10, 11, 12, 13, 14, 15, 16, 17, 18, 19, 20, 21, 22, 23, 24, 25, 26, 27, 28, 29, 30, 31, 32, 33, 34, 35, 36, 37, 38, 39, 40, 41, 42, 43, 44, 45, 46, 47, 48, 49, 50, 51, 52, 53, 54, 55, 56, 57, 58, 59, 60, 61, 62, 63, 64, 65, 66, 67, 68, 69, 70, 71, 72, 73, 74, 75, 76, 77, 78, 79, 80, 81, 82, 83, 84, 85, 86, 87, 88, 89, 90, 91, 92, 93, 94, 95, 96, 97, 98, 99]\n"
     ]
    },
    {
     "data": {
      "text/plain": [
       "{1: 2,\n",
       " 2: 3,\n",
       " 3: 4,\n",
       " 4: 5,\n",
       " 5: 6,\n",
       " 6: 7,\n",
       " 7: 8,\n",
       " 8: 9,\n",
       " 9: 10,\n",
       " 10: 11,\n",
       " 11: 12,\n",
       " 12: 13,\n",
       " 13: 14,\n",
       " 14: 15,\n",
       " 15: 16,\n",
       " 16: 17,\n",
       " 17: 18,\n",
       " 18: 19,\n",
       " 19: 20,\n",
       " 20: 21,\n",
       " 21: 22,\n",
       " 22: 23,\n",
       " 23: 24,\n",
       " 24: 25,\n",
       " 25: 26,\n",
       " 26: 27,\n",
       " 27: 28,\n",
       " 28: 29,\n",
       " 29: 30,\n",
       " 30: 31,\n",
       " 31: 32,\n",
       " 32: 33,\n",
       " 33: 34,\n",
       " 34: 35,\n",
       " 35: 36,\n",
       " 36: 37,\n",
       " 37: 38,\n",
       " 38: 39,\n",
       " 39: 40,\n",
       " 40: 41,\n",
       " 41: 42,\n",
       " 42: 43,\n",
       " 43: 44,\n",
       " 44: 45,\n",
       " 45: 46,\n",
       " 46: 47,\n",
       " 47: 48,\n",
       " 48: 49,\n",
       " 49: 50,\n",
       " 50: 51,\n",
       " 51: 52,\n",
       " 52: 53,\n",
       " 53: 54,\n",
       " 54: 55,\n",
       " 55: 56,\n",
       " 56: 57,\n",
       " 57: 58,\n",
       " 58: 59,\n",
       " 59: 60,\n",
       " 60: 61,\n",
       " 61: 62,\n",
       " 62: 63,\n",
       " 63: 64,\n",
       " 64: 65,\n",
       " 65: 66,\n",
       " 66: 67,\n",
       " 67: 68,\n",
       " 68: 69,\n",
       " 69: 70,\n",
       " 70: 71,\n",
       " 71: 72,\n",
       " 72: 73,\n",
       " 73: 74,\n",
       " 74: 75,\n",
       " 75: 76,\n",
       " 76: 77,\n",
       " 77: 78,\n",
       " 78: 79,\n",
       " 79: 80,\n",
       " 80: 81,\n",
       " 81: 82,\n",
       " 82: 83,\n",
       " 83: 84,\n",
       " 84: 85,\n",
       " 85: 86,\n",
       " 86: 87,\n",
       " 87: 88,\n",
       " 88: 89,\n",
       " 89: 90,\n",
       " 90: 91,\n",
       " 91: 92,\n",
       " 92: 93,\n",
       " 93: 94,\n",
       " 94: 95,\n",
       " 95: 96,\n",
       " 96: 97,\n",
       " 97: 98,\n",
       " 98: 99,\n",
       " 99: 100}"
      ]
     },
     "execution_count": 26,
     "metadata": {},
     "output_type": "execute_result"
    }
   ],
   "source": [
    "one_to_nn = range(1, 100)\n",
    "print type(one_to_nn)\n",
    "print one_to_nn\n",
    "\n",
    "## Using a list comprehension to add 1 to each element of the list and also print the element\n",
    "\"\"\" This is the a list comprehension\"\"\"\n",
    "{i : i+1 for i in one_to_nn} "
   ]
  },
  {
   "cell_type": "markdown",
   "metadata": {},
   "source": [
    "## Functions "
   ]
  },
  {
   "cell_type": "code",
   "execution_count": 27,
   "metadata": {
    "collapsed": false
   },
   "outputs": [
    {
     "name": "stdout",
     "output_type": "stream",
     "text": [
      "Even\n"
     ]
    }
   ],
   "source": [
    "def even_odd(n):\n",
    "    if n % 2:\n",
    "        print \"Odd\"\n",
    "    else: \n",
    "        print \"Even\"\n",
    "        \n",
    "def is_odd(n):\n",
    "    return bool(n % 2)\n",
    "\n",
    "is_odd(2)\n",
    "even_odd(2)"
   ]
  },
  {
   "cell_type": "markdown",
   "metadata": {},
   "source": [
    "## Looping"
   ]
  },
  {
   "cell_type": "code",
   "execution_count": 28,
   "metadata": {
    "collapsed": false
   },
   "outputs": [
    {
     "name": "stdout",
     "output_type": "stream",
     "text": [
      "columbia\n",
      "endeavour\n",
      "challenger\n",
      "discovery\n",
      "atlantis\n",
      "enterprise\n",
      "pathfinder\n",
      "0.000494003295898\n"
     ]
    }
   ],
   "source": [
    "import time \n",
    "shuttles = ['columbia', 'endeavour', 'challenger', 'discovery', 'atlantis', 'enterprise', 'pathfinder' ]\n",
    "\n",
    "start = time.time()\n",
    "for s in shuttles: \n",
    "    print s\n",
    "    \n",
    "print time.time() - start"
   ]
  },
  {
   "cell_type": "code",
   "execution_count": 29,
   "metadata": {
    "collapsed": false
   },
   "outputs": [
    {
     "name": "stdout",
     "output_type": "stream",
     "text": [
      "columbia\n",
      "endeavour\n",
      "challenger\n",
      "discovery\n",
      "atlantis\n",
      "enterprise\n",
      "pathfinder\n",
      "0.000502109527588\n"
     ]
    }
   ],
   "source": [
    "start = time.time()\n",
    "\n",
    "counter = 0\n",
    "while len(shuttles) > counter:\n",
    "    print shuttles[counter]\n",
    "    counter += 1\n",
    "    \n",
    "print time.time() - start"
   ]
  },
  {
   "cell_type": "code",
   "execution_count": 30,
   "metadata": {
    "collapsed": false
   },
   "outputs": [
    {
     "name": "stdout",
     "output_type": "stream",
     "text": [
      "100000\n",
      "59049\n",
      "32768\n",
      "16807\n",
      "7776\n",
      "3125\n",
      "1024\n",
      "243\n",
      "32\n",
      "1\n"
     ]
    }
   ],
   "source": [
    "eval_num = 10\n",
    "\n",
    "while eval_num:\n",
    "    print eval_num ** 5\n",
    "    eval_num -= 1"
   ]
  },
  {
   "cell_type": "code",
   "execution_count": null,
   "metadata": {
    "collapsed": true
   },
   "outputs": [],
   "source": []
  }
 ],
 "metadata": {
  "anaconda-cloud": {},
  "kernelspec": {
   "display_name": "Python [Root]",
   "language": "python",
   "name": "Python [Root]"
  },
  "language_info": {
   "codemirror_mode": {
    "name": "ipython",
    "version": 2
   },
   "file_extension": ".py",
   "mimetype": "text/x-python",
   "name": "python",
   "nbconvert_exporter": "python",
   "pygments_lexer": "ipython2",
   "version": "2.7.12"
  }
 },
 "nbformat": 4,
 "nbformat_minor": 1
}
