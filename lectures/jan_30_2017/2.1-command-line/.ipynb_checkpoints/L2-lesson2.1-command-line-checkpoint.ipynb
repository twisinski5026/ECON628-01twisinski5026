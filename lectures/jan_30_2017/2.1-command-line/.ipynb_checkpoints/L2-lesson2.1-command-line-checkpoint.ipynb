{
 "cells": [
  {
   "cell_type": "markdown",
   "metadata": {
    "slideshow": {
     "slide_type": "slide"
    }
   },
   "source": [
    "<img src=\"https://images.efollett.com/htmlroot/images/templates/storeLogos/CA/864.gif\" style=\"float: right;\"> \n",
    "\n",
    "\n",
    "\n",
    "\n",
    "# ECON628-01 \n",
    "### Lecture 2 -  2.1 - Using the Command Line\n",
    "#### _Note: we are not going to spend much time in this topic => students need to revise this own their own_\n",
    "\n",
    "\n",
    "\n",
    "### LEARNING GOALS\n",
    "- Create folders and files using mkdir and touch in the command line\n",
    "- Change directories and list directory contents (cd, ls -l)\n",
    "- Check current working directly (pwd)\n",
    "- Familiarize yourself with the [UNIX] [1] commands cd, pwd, mkdir, pwd, and touch \n",
    "- Great Resource to learn more on [UNIX] [2]\n",
    "- PC users => this [site] [3] is a great guideline \n",
    "\n",
    "[1]: http://mally.stanford.edu/~sr/computing/basic-unix.html    \"UNIX\"\n",
    "[2]: https://courseweb.pitt.edu/bbcswebdav/institution/Pitt%20Online/MLIS_Pitt_Online/LIS%202600/Intro%20Module/LIS_2600_%20M1_Shotts%202009.pdf \"UNIX\"\n",
    "[3]: http://www.yolinux.com/TUTORIALS/unix_for_dos_users.html \"site\""
   ]
  },
  {
   "cell_type": "markdown",
   "metadata": {
    "slideshow": {
     "slide_type": "slide"
    }
   },
   "source": [
    "<a name=\"introduction\"></a>\n",
    "##  What is a GUI (pronounced gooey)? (5 mins)\n",
    "Graphical User Interface => (GUI) => long ago computers didn't come with a GUI.\n",
    "\n",
    "\n",
    "Instead, everyone interacted with their computer using text commands in what we call:\n",
    "Command Line Interface => (CLI).\n",
    "\n",
    "![Dos](https://upload.wikimedia.org/wikipedia/commons/9/94/FreeDOS_Beta_9_pre-release5_%28command_line_interface%29_on_Bochs_sshot20040912.png)\n",
    "*Image from Wikimedia*\n"
   ]
  },
  {
   "cell_type": "markdown",
   "metadata": {
    "slideshow": {
     "slide_type": "slide"
    }
   },
   "source": [
    "### Why Command Line?\n",
    "\n",
    "Everything you can do in a windowed environment, can be done in terminal, **faster**.  Using the mouse, clicking on buttons, confirming operations, waiting for windows to load.  You're wasting your life!\n",
    "\n",
    "* Running processes\n",
    "* Finding files\n",
    "* Web browsing\n",
    "* Installing packages\n",
    "* Managing your development environment"
   ]
  },
  {
   "cell_type": "markdown",
   "metadata": {
    "slideshow": {
     "slide_type": "slide"
    }
   },
   "source": [
    "#### What is a shell?\n",
    "\n",
    "Shell => type of command line program, which contains a very simple, text-based user interface enabling us to access all of an operating system's services. It is, a program that accepts text as input and translates that text into the appropriate functions that you want your computer to run.\n",
    "\n",
    "\n",
    "Here are a few Windows equivalents:\n",
    "[Cygwin](https://www.cygwin.com/)\n",
    "[msis git](https://msysgit.github.io/)\n",
    "\n",
    "[Windows shell equivalents](http://stackoverflow.com/questions/28487128/what-program-in-windows-is-equivalent-to-oss-terminal)\n"
   ]
  },
  {
   "cell_type": "markdown",
   "metadata": {
    "slideshow": {
     "slide_type": "notes"
    }
   },
   "source": [
    "Running applications, checking settings like free hard drive space, or even fun stuff like browsing the web can happen from the shell.  **What is a GUI? What is a CLI? What is a shell?**"
   ]
  },
  {
   "cell_type": "markdown",
   "metadata": {
    "slideshow": {
     "slide_type": "slide"
    }
   },
   "source": [
    "## Forget Finder, get fast at using your laptop - Do this with me\n",
    "\n",
    "#### Opening & Closing Terminal\n",
    "\n",
    "First, we need to launch/opne the command prompt. We do this by using spotlight:\n",
    "\n",
    "- ⌘ (Command) + Space\n",
    "- \"*Te*rminal\"\n",
    "- Enter\n",
    "\n",
    "    * Notice that you can actually hit enter as soon as the field autocompletes. \n",
    "\n",
    "    * Get used to taking shortcuts – don't type the whole word out if you don't have to and **avoid** using your mouse if you can open or use an app with just keyboard shortcuts. It may seem harder now, but when you get used to it, it will save you literally hours of cumulative time."
   ]
  },
  {
   "cell_type": "markdown",
   "metadata": {
    "slideshow": {
     "slide_type": "slide"
    }
   },
   "source": [
    "## Paths \n",
    "Every file or folder in a file system can be read, written, and deleted by referencing its position inside the filesystem. When we talk about the position of a file or a folder in a file system, we refer to its \"path\". There are a couple of different kinds of paths we can use to refer to a file – **absolute paths** and **relative paths**.\n",
    "\n",
    "**Directory** is an important term that's used interchangeably with *folder*. Though they are not exactly the same thing, when we say \"navigate to your project directory\" think of this as \"navigate to your project folder\".  Here's a little more information:\n",
    "\n",
    "_Strictly speaking, there is a difference between a directory which is a file system concept, and the graphical user interface metaphor that is used to represent it (a folder)...If one is referring to a container of documents, the term folder is more appropriate. The term directory refers to the way a structured list of document files and folders is stored on the computer. It is comparable to a telephone directory that contains lists of names, numbers and addresses and does not contain the actual documents themselves._ *Taken from [Close-To-Open Cache Consistency in the Linux NFS Client](http://www.citi.umich.edu/projects/nfs-perf/results/cel/dnlc.html)*"
   ]
  },
  {
   "cell_type": "markdown",
   "metadata": {
    "slideshow": {
     "slide_type": "notes"
    }
   },
   "source": [
    "All files can created, updated, or deleted using the command line interface.  We do this by referencing **paths**, relative or absolute.  I prefer the term directory when talking about the shell / term."
   ]
  },
  {
   "cell_type": "markdown",
   "metadata": {
    "slideshow": {
     "slide_type": "slide"
    }
   },
   "source": [
    "#### What is an absolute path?\n",
    "\n",
    "An absolute path is defined as the specific location of a file or folder from the root directory, typically shown as `/`. The root directory is the starting point from which all other folders are defined and is not normally the same as your **Home** directory, which is normally found at `/Users/[Your Username]`."
   ]
  },
  {
   "cell_type": "markdown",
   "metadata": {
    "slideshow": {
     "slide_type": "slide"
    }
   },
   "source": [
    "#### Working with unix commands and file paths\n",
    "\n",
    "Typing **`cd`** - a command for \"change directory\" with no parameters takes us to our home directory.\n",
    "\n",
    "```bash\n",
    "cd\n",
    "```\n",
    "\n",
    "If we type in `pwd` - a command for \"print working directory\" from that folder, we can see where we are in relation to the root directory. The `pwd` command will always give you the absolute path of your current location.\n",
    "\n",
    "An example of absolute path:\n",
    "\n",
    "```bash\n",
    "open /Users/Charlie/desktop/a/b/c/file.txt\n",
    "```\n",
    "\n",
    "Notice, this path starts from `/` directory which is a root directory for every Linux/Unix machines."
   ]
  },
  {
   "cell_type": "markdown",
   "metadata": {
    "slideshow": {
     "slide_type": "notes"
    }
   },
   "source": [
    "Change directories.  pwd / show working directories.  Open a file using the open command."
   ]
  },
  {
   "cell_type": "markdown",
   "metadata": {
    "slideshow": {
     "slide_type": "slide"
    }
   },
   "source": [
    "#### What is a relative path?\n",
    "\n",
    "A relative path is a reference to a file or folder **relative** to the current position, or the present working directory(pwd). If we are in the folder `/a/b/` and we want to open the file that has the absolute path `/a/b/c/file.txt`, we can just type:\n",
    "\n",
    "```bash\n",
    "open c/file.txt\n",
    "```\n",
    "\n",
    "or\n",
    "\n",
    "```bash\n",
    "open ./c/file.txt\n",
    "```\n",
    "\n",
    "At any time, we can also use the absolute path, by adding a slash to the beginning of the path. The absolute path is the same for a file or a folder regardless of the current working directory, but relative paths are different, depending on what directory we are in.  Directory structures are laid out like `directory/subdirectory/subsubdirectory`.\n",
    "\n",
    "**Check:**  What is the difference between an absolute path and a relative path?"
   ]
  },
  {
   "cell_type": "markdown",
   "metadata": {
    "slideshow": {
     "slide_type": "slide"
    }
   },
   "source": [
    "\n",
    "#### Navigating using the command prompt\n",
    "\n",
    "* Changing directories\n",
    "* Listing files\n",
    "* Creating directories and files\n",
    "* removing files\n",
    "\n",
    "The tilde `~` character is an alias to your home directory. Use it to quickly return home.\n",
    "\n",
    "```bash\n",
    "cd ~\\\n",
    "```\n",
    "\n",
    "Or even more simply, you can just type:\n",
    "\n",
    "```bash\n",
    "cd\n",
    "```\n",
    "\n",
    "The tilde `~` character is useful to shorten paths that would otherwise be\n",
    "absolute paths. For example, to navigate to your Desktop you can type:\n",
    "\n",
    "```bash\n",
    "cd ~/Desktop\n",
    "```\n"
   ]
  },
  {
   "cell_type": "markdown",
   "metadata": {
    "slideshow": {
     "slide_type": "notes"
    }
   },
   "source": [
    "_note: Also, pronounced \"tild\" but \"tild-a\" is good too.  cd by itself takes you to home directory much like the ~tilde char. Also touch can be used to update the timestamp of a file._  "
   ]
  },
  {
   "cell_type": "markdown",
   "metadata": {
    "slideshow": {
     "slide_type": "slide"
    }
   },
   "source": [
    "The `ls` command lists files and directories in the current folder.\n",
    "```bash\n",
    "ls\n",
    "```\n",
    "\n",
    "It can also be used to list files located in any directory. For example to list\n",
    "your applications you can type:\n",
    "```bash\n",
    "ls /Applications\n",
    "```"
   ]
  },
  {
   "cell_type": "markdown",
   "metadata": {
    "slideshow": {
     "slide_type": "slide"
    }
   },
   "source": [
    "To make a new directory.\n",
    "```bash\n",
    "mkdir folder\n",
    "```\n",
    "\n",
    "To create a new file.\n",
    "```bash\n",
    "touch file1\n",
    "```\n",
    "\n",
    "To remove a file.\n",
    "```bash\n",
    "rm file1\n",
    "```"
   ]
  },
  {
   "cell_type": "markdown",
   "metadata": {
    "slideshow": {
     "slide_type": "notes"
    }
   },
   "source": [
    "_note: how do we get from each directory, list files, create a new file_"
   ]
  },
  {
   "cell_type": "markdown",
   "metadata": {
    "slideshow": {
     "slide_type": "slide"
    }
   },
   "source": [
    "## Whiteboard Example!\n",
    "#### Using wildcards in the command prompt\n",
    "\n",
    "The wildcard symbol `*` is useful for using commands to operate on multiple\n",
    "files. To give an example first create a folder on your Desktop and add some\n",
    "files.\n",
    "```bash\n",
    "mkdir ~/Desktop/example_folder\n",
    "cd ~/Desktop/example_folder\n",
    "touch dog.txt\n",
    "touch bird.txt\n",
    "touch fish.txt\n",
    "```\n",
    "\n",
    "You can use the wildcard `*` to then operate on subsets of files. List any\n",
    "file with \"i\" in the filename, for example:\n",
    "```bash\n",
    "ls *i*\n",
    "```\n",
    "\n",
    "Or remove any file with \"d\":\n",
    "```bash\n",
    "rm *d*\n",
    "ls\n",
    "```"
   ]
  },
  {
   "cell_type": "markdown",
   "metadata": {
    "slideshow": {
     "slide_type": "slide"
    }
   },
   "source": [
    "## Also, hidden directories can be found!\n",
    "\n",
    "There are hidden directories all over your filesystem. Mainly, to save you from youself.  Using the paramters `-lha` to `ls`, we can find these directories.\n",
    "\n",
    "```bash\n",
    "ls -lha\n",
    "```\n",
    "<pre>\n",
    "-l: &nbsp;&nbsp; One entry per line\n",
    "-h: &nbsp;&nbsp; When used with the -l option, use unit suffixes: Byte, Kilobyte, Megabyte, etc.\n",
    "-a: &nbsp;&nbsp; Include directory entries whose names begin with a dot (.).\n",
    "</pre>"
   ]
  },
  {
   "cell_type": "markdown",
   "metadata": {
    "slideshow": {
     "slide_type": "notes"
    }
   },
   "source": [
    "Maybe another whiteboard example.  Also check out tab."
   ]
  },
  {
   "cell_type": "markdown",
   "metadata": {
    "slideshow": {
     "slide_type": "slide"
    }
   },
   "source": [
    "## Finding files: Locate & Find\n",
    "\n",
    "By far the most useful operation from the terminal, is finding files.  `locate` finds files all over your filesystem.  The `find` command will find files relative to the current working directory, but needs to be used in conjunction with a pipe operation.\n",
    "\n",
    "### Find all notebook files within subdirectories of current working directory\n",
    "`find . | grep ipynb`\n",
    "\n",
    "### Find specific file(s) on entire system\n",
    "`locate nanorc`\n",
    "\n",
    "### Find spcific file(s) with substring match\n",
    "`locate log`"
   ]
  },
  {
   "cell_type": "markdown",
   "metadata": {
    "slideshow": {
     "slide_type": "slide"
    }
   },
   "source": [
    "<a name=\"conclusion\"></a>\n",
    "## Conclusion \t\t \n",
    "You learned about the CLI commands mkdir, touch, cd, pwd, and ls. You also learned about absolute and relative paths.\n",
    "The only way to learn more abou this is to practice. "
   ]
  }
 ],
 "metadata": {
  "anaconda-cloud": {},
  "celltoolbar": "Slideshow",
  "kernelspec": {
   "display_name": "Python [Root]",
   "language": "python",
   "name": "Python [Root]"
  },
  "language_info": {
   "codemirror_mode": {
    "name": "ipython",
    "version": 2
   },
   "file_extension": ".py",
   "mimetype": "text/x-python",
   "name": "python",
   "nbconvert_exporter": "python",
   "pygments_lexer": "ipython2",
   "version": "2.7.12"
  }
 },
 "nbformat": 4,
 "nbformat_minor": 0
}
